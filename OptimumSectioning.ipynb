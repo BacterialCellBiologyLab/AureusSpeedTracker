{
 "cells": [
  {
   "cell_type": "markdown",
   "id": "6b1c2e31",
   "metadata": {
    "tags": []
   },
   "source": [
    "# SPT analysis - Interactive report\n",
    "###### AB @ BCB ITQB \n",
    "\n",
    "\n",
    "### Instructions:\n",
    "1. To run a cell select it and press **SHIFT+ENTER**;\n",
    "2. All cells require the **previous** one to be run first;\n",
    "3. If you change the loaded file through the dropdown menu, **RUN** the interactive graph cell (the next one) again to update the data \n",
    "4. If you make a mistake in the order or just want to restart the report **restart the kernel** and start from the beginning\n",
    "---"
   ]
  },
  {
   "cell_type": "markdown",
   "id": "b1396cd1-80ca-46d9-ab96-490420a608c7",
   "metadata": {},
   "source": [
    "### Import required functions"
   ]
  },
  {
   "cell_type": "code",
   "execution_count": null,
   "id": "bb5f4d0a",
   "metadata": {},
   "outputs": [],
   "source": [
    "%matplotlib widget\n",
    "from ReportJupyter import *"
   ]
  },
  {
   "cell_type": "markdown",
   "id": "667369bd",
   "metadata": {},
   "source": [
    "### Choose folder that contains all npy's"
   ]
  },
  {
   "cell_type": "code",
   "execution_count": null,
   "id": "e2feb15d",
   "metadata": {},
   "outputs": [],
   "source": [
    "# Choose folder\n",
    "root = Tk()\n",
    "rootdir = filedialog.askdirectory()\n",
    "root.destroy()\n",
    "\n",
    "load_widget = interactive(FileLoader, \n",
    "                          folder=Dropdown(options=os.listdir(rootdir), description='Experimental conditions:', disabled=False), \n",
    "                          root = fixed(rootdir))\n",
    "display(load_widget)"
   ]
  },
  {
   "cell_type": "markdown",
   "id": "12e92a12-efb7-498d-9bf1-728c47b3ce09",
   "metadata": {},
   "source": [
    "### Interactive filtering\n",
    "- Filter the tracks by assigning a maximum angle;\n",
    "- This angle refers to the deviation of the Z-ring ellipse to a perfect circle\n",
    "- Higher angles correspond to slanted rings and higher errors"
   ]
  },
  {
   "cell_type": "code",
   "execution_count": null,
   "id": "fdb43774-164d-437b-9fd3-226c63be4fd2",
   "metadata": {},
   "outputs": [],
   "source": [
    "TrackObjects = np.array(load_widget.result)\n",
    "angle = np.rad2deg(np.arccos([i.ellipse['minor']/i.ellipse['major'] for i in TrackObjects]))\n",
    "\n",
    "angle_wid = interactive(Update_Graphs, \n",
    "            angle_threshold= IntSlider(min=1, max=91, step=2, value=20), \n",
    "            all_tracks=fixed(TrackObjects), \n",
    "            angles=fixed(angle))\n",
    "\n",
    "accordion = Accordion(children=[angle_wid], titles=('Filter by angle'))\n",
    "accordion\n"
   ]
  },
  {
   "cell_type": "code",
   "execution_count": null,
   "id": "6d701bac-e8e4-42c4-96e1-cd8608a0380a",
   "metadata": {},
   "outputs": [],
   "source": []
  }
 ],
 "metadata": {
  "kernelspec": {
   "display_name": "Python 3 (ipykernel)",
   "language": "python",
   "name": "python3"
  },
  "language_info": {
   "codemirror_mode": {
    "name": "ipython",
    "version": 3
   },
   "file_extension": ".py",
   "mimetype": "text/x-python",
   "name": "python",
   "nbconvert_exporter": "python",
   "pygments_lexer": "ipython3",
   "version": "3.9.7"
  }
 },
 "nbformat": 4,
 "nbformat_minor": 5
}
