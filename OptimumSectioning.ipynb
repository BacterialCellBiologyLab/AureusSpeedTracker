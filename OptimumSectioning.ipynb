{
 "cells": [
  {
   "cell_type": "markdown",
   "id": "6b1c2e31",
   "metadata": {
    "tags": []
   },
   "source": [
    "# SPT analysis - Interactive report\n",
    "###### AB @ BCB ITQB "
   ]
  },
  {
   "cell_type": "markdown",
   "id": "b1396cd1-80ca-46d9-ab96-490420a608c7",
   "metadata": {},
   "source": [
    "### Import required functions"
   ]
  },
  {
   "cell_type": "code",
   "execution_count": 1,
   "id": "bb5f4d0a",
   "metadata": {},
   "outputs": [],
   "source": [
    "%matplotlib widget\n",
    "from ReportJupyter import *"
   ]
  },
  {
   "cell_type": "markdown",
   "id": "667369bd",
   "metadata": {},
   "source": [
    "### Load data "
   ]
  },
  {
   "cell_type": "code",
   "execution_count": 2,
   "id": "e2feb15d",
   "metadata": {},
   "outputs": [
    {
     "data": {
      "application/vnd.jupyter.widget-view+json": {
       "model_id": "9c2352bf87d247bfbbbcc8be26eecd1c",
       "version_major": 2,
       "version_minor": 0
      },
      "text/plain": [
       "interactive(children=(Dropdown(description='Experimental conditions:', options=('.git', '.gitattributes', '.gi…"
      ]
     },
     "metadata": {},
     "output_type": "display_data"
    }
   ],
   "source": [
    "# Choose folder\n",
    "root = Tk()\n",
    "rootdir = filedialog.askdirectory()\n",
    "root.destroy()\n",
    "\n",
    "load_widget = interactive(FileLoader, \n",
    "                          folder=Dropdown(options=os.listdir(rootdir), description='Experimental conditions:', disabled=False), \n",
    "                          root = fixed(rootdir))\n",
    "display(load_widget)\n",
    "# TODO fix limits of x axis"
   ]
  },
  {
   "cell_type": "code",
   "execution_count": 4,
   "id": "fdb43774-164d-437b-9fd3-226c63be4fd2",
   "metadata": {},
   "outputs": [
    {
     "data": {
      "application/vnd.jupyter.widget-view+json": {
       "model_id": "e7238bf4b4604300adce49fcbd3d86a6",
       "version_major": 2,
       "version_minor": 0
      },
      "text/plain": [
       "Accordion(children=(interactive(children=(IntSlider(value=20, description='angle_threshold', max=91, min=1, st…"
      ]
     },
     "metadata": {},
     "output_type": "display_data"
    }
   ],
   "source": [
    "TrackObjects = np.array(load_widget.result)\n",
    "angle = np.rad2deg(np.arccos([i.ellipse['minor']/i.ellipse['major'] for i in TrackObjects]))\n",
    "\n",
    "angle_wid = interactive(Update_Graphs, \n",
    "            angle_threshold= IntSlider(min=1, max=91, step=2, value=20), \n",
    "            all_tracks=fixed(TrackObjects), \n",
    "            angles=fixed(angle))\n",
    "\n",
    "accordion = Accordion(children=[angle_wid], titles=('Filter by angle'))\n",
    "accordion\n"
   ]
  },
  {
   "cell_type": "code",
   "execution_count": null,
   "id": "6d701bac-e8e4-42c4-96e1-cd8608a0380a",
   "metadata": {},
   "outputs": [],
   "source": []
  }
 ],
 "metadata": {
  "kernelspec": {
   "display_name": "Python 3 (ipykernel)",
   "language": "python",
   "name": "python3"
  },
  "language_info": {
   "codemirror_mode": {
    "name": "ipython",
    "version": 3
   },
   "file_extension": ".py",
   "mimetype": "text/x-python",
   "name": "python",
   "nbconvert_exporter": "python",
   "pygments_lexer": "ipython3",
   "version": "3.9.7"
  }
 },
 "nbformat": 4,
 "nbformat_minor": 5
}
