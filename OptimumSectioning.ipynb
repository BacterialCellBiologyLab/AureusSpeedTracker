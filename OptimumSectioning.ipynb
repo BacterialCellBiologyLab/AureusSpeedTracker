{
 "cells": [
  {
   "cell_type": "markdown",
   "id": "6b1c2e31",
   "metadata": {
    "tags": []
   },
   "source": [
    "# SPT analysis - Interactive report\n",
    "###### AB @ BCB ITQB \n",
    "\n",
    "\n",
    "### Instructions:\n",
    "1. To run a cell select it and press **SHIFT+ENTER**;\n",
    "2. All cells require the **previous** one to be run first;\n",
    "3. If you change the loaded file through the dropdown menu, **RUN** the interactive graph cell (the next one) again to update the data \n",
    "4. If you make a mistake in the order or just want to restart the report **restart the kernel** and start from the beginning\n",
    "5. Reading a .npy file takes a few seconds depending on its size. The loading is cached, meaning that loading a previously loaded file is instant.\n",
    "---"
   ]
  },
  {
   "cell_type": "markdown",
   "id": "b1396cd1-80ca-46d9-ab96-490420a608c7",
   "metadata": {},
   "source": [
    "### Import required functions"
   ]
  },
  {
   "cell_type": "code",
   "execution_count": null,
   "id": "bb5f4d0a",
   "metadata": {
    "jupyter": {
     "source_hidden": true
    },
    "tags": []
   },
   "outputs": [],
   "source": [
    "%matplotlib widget\n",
    "from ReportJupyter import *"
   ]
  },
  {
   "cell_type": "markdown",
   "id": "667369bd",
   "metadata": {},
   "source": [
    "### Choose folder that contains all npy's"
   ]
  },
  {
   "cell_type": "code",
   "execution_count": null,
   "id": "e2feb15d",
   "metadata": {
    "jupyter": {
     "source_hidden": true
    },
    "tags": []
   },
   "outputs": [],
   "source": [
    "# Choose folder\n",
    "root = Tk()\n",
    "rootdir = filedialog.askdirectory()\n",
    "root.destroy()\n",
    "\n",
    "load_widget = interactive(FileLoader, \n",
    "                          folder=Dropdown(options=os.listdir(rootdir), description='Experimental conditions:', disabled=False), \n",
    "                          root = fixed(rootdir))\n",
    "display(load_widget)\n",
    "\n",
    "out = Output()\n",
    "button = Button(description=\"Click here to preload ALL data\")\n",
    "button.on_click(partial(loadall, rootdir, out))\n",
    "display(button)\n",
    "display(out)\n"
   ]
  },
  {
   "cell_type": "markdown",
   "id": "12e92a12-efb7-498d-9bf1-728c47b3ce09",
   "metadata": {
    "tags": []
   },
   "source": [
    "### Interactive filtering\n",
    "- Filter the tracks by assigning a maximum allowed angle;\n",
    "- This angle refers to the deviation of the Z-ring ellipse to a perfect circle\n",
    "- Higher angles correspond to slanted rings and higher errors"
   ]
  },
  {
   "cell_type": "code",
   "execution_count": null,
   "id": "fdb43774-164d-437b-9fd3-226c63be4fd2",
   "metadata": {
    "jupyter": {
     "source_hidden": true
    },
    "tags": []
   },
   "outputs": [],
   "source": [
    "TrackObjects = np.array(load_widget.result)\n",
    "\n",
    "#diameter = np.array([tr.ellipse['major']*1000 for tr in TrackObjects])\n",
    "#angle = np.rad2deg(np.arccos([i.ellipse['minor']/i.ellipse['major'] for i in TrackObjects]))\n",
    "\n",
    "angle_slider = IntRangeSlider(value=[0, 60], min=0, max=90, step=1, description='Angle:')\n",
    "major_slider = IntRangeSlider(value=[0, 800], min=0, max=2000, step=10, description='Diameter:')\n",
    "\n",
    "angle_wid = interactive(Update_Graphs, angle_threshold=angle_slider, major_threshold=major_slider,\n",
    "            all_tracks=fixed(TrackObjects))\n",
    "\n",
    "angle_wid\n"
   ]
  },
  {
   "cell_type": "markdown",
   "id": "cb1e05bb-b3be-4a0b-b323-e73a9baf1c75",
   "metadata": {
    "tags": []
   },
   "source": [
    "### Interactive comparison\n",
    "- After defining appropriate filtering in the above cells select tracks for comparison\n",
    "- By default, adding a ftsW conditions WILL look for the corresponding divIB"
   ]
  },
  {
   "cell_type": "code",
   "execution_count": null,
   "id": "1fa74123-f04b-41be-8420-893c8ba180c8",
   "metadata": {
    "jupyter": {
     "source_hidden": true
    },
    "tags": []
   },
   "outputs": [],
   "source": [
    "selections = SelectMultiple(\n",
    "    options=os.listdir(rootdir),\n",
    "    description='Available Tracks',\n",
    "    rows=len(os.listdir(rootdir)),\n",
    "    width=200,\n",
    "    disabled=False\n",
    ")\n",
    "\n",
    "\n",
    "\n",
    "angle = BoundedIntText(\n",
    "    value=90,\n",
    "    min=0,\n",
    "    max=91,\n",
    "    step=1,\n",
    "    description='Angle Threshold:',\n",
    "    disabled=False\n",
    ")\n",
    "\n",
    "comparison_wid = interactive(ViolinComparison, conditions=selections, root=fixed(rootdir), anglethresh=angle)\n",
    "comparison_wid"
   ]
  }
 ],
 "metadata": {
  "kernelspec": {
   "display_name": "Python 3 (ipykernel)",
   "language": "python",
   "name": "python3"
  },
  "language_info": {
   "codemirror_mode": {
    "name": "ipython",
    "version": 3
   },
   "file_extension": ".py",
   "mimetype": "text/x-python",
   "name": "python",
   "nbconvert_exporter": "python",
   "pygments_lexer": "ipython3",
   "version": "3.9.12"
  }
 },
 "nbformat": 4,
 "nbformat_minor": 5
}
