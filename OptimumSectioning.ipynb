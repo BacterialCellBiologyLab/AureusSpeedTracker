{
 "cells": [
  {
   "cell_type": "markdown",
   "id": "6b1c2e31",
   "metadata": {
    "tags": []
   },
   "source": [
    "# SPT analysis - Interactive report\n",
    "###### AB @ BCB ITQB \n",
    "\n",
    "\n",
    "### Instructions:\n",
    "1. To run a cell select it and press **SHIFT+ENTER**;\n",
    "2. All cells require the **previous** one to be run first;\n",
    "3. If you change the loaded file through the dropdown menu, **RUN** the interactive graph cell (the next one) again to update the data \n",
    "4. If you make a mistake in the order or just want to restart the report **restart the kernel** and start from the beginning\n",
    "5. Reading a .npy file takes a few seconds depending on its size. The loading is cached, meaning that loading a previously loaded file is instant.\n",
    "---"
   ]
  },
  {
   "cell_type": "markdown",
   "id": "b1396cd1-80ca-46d9-ab96-490420a608c7",
   "metadata": {},
   "source": [
    "### Import required functions"
   ]
  },
  {
   "cell_type": "code",
   "execution_count": 1,
   "id": "bb5f4d0a",
   "metadata": {
    "tags": []
   },
   "outputs": [],
   "source": [
    "%matplotlib widget\n",
    "from ReportJupyter import *"
   ]
  },
  {
   "cell_type": "markdown",
   "id": "667369bd",
   "metadata": {},
   "source": [
    "### Choose folder that contains all npy's"
   ]
  },
  {
   "cell_type": "code",
   "execution_count": 2,
   "id": "e2feb15d",
   "metadata": {
    "tags": []
   },
   "outputs": [
    {
     "data": {
      "application/vnd.jupyter.widget-view+json": {
       "model_id": "ba68d749ff554052abd0e2bfb8a2c043",
       "version_major": 2,
       "version_minor": 0
      },
      "text/plain": [
       "interactive(children=(Dropdown(description='Experimental conditions:', options=('2021-11-15_divIB_30C', '2021-…"
      ]
     },
     "metadata": {},
     "output_type": "display_data"
    },
    {
     "data": {
      "application/vnd.jupyter.widget-view+json": {
       "model_id": "01ee698cfd4a4bdd85b61011cbeccaf1",
       "version_major": 2,
       "version_minor": 0
      },
      "text/plain": [
       "Button(description='Click here to preload ALL data', style=ButtonStyle())"
      ]
     },
     "metadata": {},
     "output_type": "display_data"
    },
    {
     "data": {
      "application/vnd.jupyter.widget-view+json": {
       "model_id": "9feb131321e247459bbcfc7073a7b986",
       "version_major": 2,
       "version_minor": 0
      },
      "text/plain": [
       "Output()"
      ]
     },
     "metadata": {},
     "output_type": "display_data"
    }
   ],
   "source": [
    "# Choose folder\n",
    "root = Tk()\n",
    "rootdir = filedialog.askdirectory()\n",
    "root.destroy()\n",
    "\n",
    "load_widget = interactive(FileLoader, \n",
    "                          folder=Dropdown(options=os.listdir(rootdir), description='Experimental conditions:', disabled=False), \n",
    "                          root = fixed(rootdir))\n",
    "display(load_widget)\n",
    "\n",
    "out = Output()\n",
    "button = Button(description=\"Click here to preload ALL data\")\n",
    "button.on_click(partial(loadall, rootdir, out))\n",
    "display(button)\n",
    "display(out)\n"
   ]
  },
  {
   "cell_type": "code",
   "execution_count": 46,
   "id": "33d35c48-a719-4a2e-b32b-2ce0cfcdc60c",
   "metadata": {},
   "outputs": [],
   "source": [
    "def Update_Graphs(angle_threshold, major_threshold, all_tracks):\n",
    "    \n",
    "    plt.close('all')\n",
    "    \n",
    "    all_angles = np.rad2deg(np.arccos([i.ellipse['minor'] / i.ellipse['major'] for i in all_tracks]))\n",
    "    all_diameter = np.array([i.ellipse['major']*1000 for i in all_tracks])\n",
    "    \n",
    "    filtered_tracks = []\n",
    "    for idx,tr in enumerate(all_tracks):\n",
    "        if (all_angles[idx]<angle_threshold[1] and all_angles[idx]>angle_threshold[0]) and (all_diameter[idx]<major_threshold[1] and all_diameter[idx]>major_threshold[0]):\n",
    "            filtered_tracks.append(tr)\n",
    "    filtered_tracks = np.array(filtered_tracks)\n",
    "    \n",
    "    print(\n",
    "        f\"n = {len(filtered_tracks)} (out of {len(all_tracks)} ({(len(filtered_tracks) / len(all_tracks)) * 100:.1f}%))\\n\\n\")\n",
    "\n",
    "    angles = np.rad2deg(np.arccos([i.ellipse['minor'] / i.ellipse['major'] for i in filtered_tracks]))\n",
    "    diameter = np.array([i.ellipse['major']*1000 for i in filtered_tracks])\n",
    "    \n",
    "    displacement_velo = [np.average(tr.disp_velo) for tr in filtered_tracks]\n",
    "    brute_velo = [tr.bruteforce_velo for tr in filtered_tracks]\n",
    "    brute_sections = [len(tr.bruteforce_phi) for tr in filtered_tracks]\n",
    "    mug_velo = [tr.muggeo_velo for tr in filtered_tracks]\n",
    "    mug_sections = [len(tr.muggeo_phi) for tr in filtered_tracks]\n",
    "    \n",
    "    print(f\"Displacement: {np.nanmean(displacement_velo):.2f} +- {np.nanstd(displacement_velo):.2f} nm/s \\n\")\n",
    "    print(f\"Brute force sectioning: {np.average(np.hstack(brute_velo)):.2f} +- {np.std(np.hstack(brute_velo)):.2f} nm/s\")\n",
    "    print(f\"\\t Average number of sections of {np.average(brute_sections):.2f} \\n\")\n",
    "    print(f\"Muggeo et al sectioning: {np.nanmean(np.hstack(mug_velo)):.2f} +- {np.nanstd(np.hstack(mug_velo)):.2f} nm/s\")\n",
    "    print(f\"\\t Average number of sections of {np.nanmean(mug_sections):.2f} \\n\")\n",
    "\n",
    "    \n",
    "    ##############################################################################################################################################\n",
    "    fig = plt.figure(\"Velocity Distributions\", figsize=(10,5))\n",
    "    gs = GridSpec(1,2, figure=fig, width_ratios=(1,1))\n",
    "    \n",
    "    ax1 = fig.add_subplot(gs[0,0])\n",
    "    ax1.hist(displacement_velo, label=\"Displacement\", alpha=0.5, density=True, bins='auto')\n",
    "    ax1.hist(np.hstack(brute_velo), label=\"Brute force\", alpha=0.5, density=True, bins='auto')\n",
    "    ax1.hist(np.hstack(mug_velo), label=\"Muggeo et al\", alpha=0.5, density=True, bins='auto')\n",
    "    ax1.set_ylabel(\"Probability Density Function\")\n",
    "    ax1.set_xlabel(\"Velocity (nm/s)\")\n",
    "    ax1.legend()\n",
    "    \n",
    "    ax2 = fig.add_subplot(gs[0,1])\n",
    "    ax2.hist(displacement_velo, label=\"Displacement\", alpha=0.5, density=True, bins='auto')\n",
    "    ax2.hist(np.hstack(brute_velo), label=\"Brute force\", alpha=0.5, density=True, bins='auto')\n",
    "    ax2.hist(np.hstack(mug_velo), label=\"Muggeo et al\", alpha=0.5, density=True, bins='auto')\n",
    "    ax2.set_ylabel(\"Probability Density Function\")\n",
    "    ax2.set_xlabel(\"Velocity (nm/s)\")\n",
    "    ax2.set_xscale('log')\n",
    "    ax2.legend()\n",
    "    \n",
    "    plt.tight_layout()\n",
    "    plt.show()\n",
    "    ##############################################################################################################################################\n",
    "    \n",
    "    ##############################################################################################################################################\n",
    "    fig2 = plt.figure(\"Effect of angle\", figsize=(10,10))\n",
    "    gs = GridSpec(2,2, figure=fig2, width_ratios=(1,1), height_ratios=(1,1))\n",
    "    \n",
    "    ax1 = fig2.add_subplot(gs[0,0])\n",
    "    ax1.scatter(x=angles, y=displacement_velo, label=\"Displacement\")\n",
    "    ax1.scatter(x=angles, y=[np.average(i) for i in brute_velo], label=\"Brute force\", c='k', marker='*')\n",
    "    ax1.scatter(x=angles, y=[np.average(i) for i in mug_velo], label=\"Muggeo et al\", c='r', marker='+')\n",
    "    ax1.set_ylabel(\"Average Velocity (nm/s)\")\n",
    "    ax1.set_xlabel(\"Angle (deg)\")\n",
    "    ax1.legend()\n",
    "    \n",
    "    ax2 = fig2.add_subplot(gs[0,1])\n",
    "    ax2.scatter(x=angles, y=[np.std(i) for i in brute_velo], label=\"Brute force\", c='k', marker='*')\n",
    "    ax2.scatter(x=angles, y=[np.std(i) for i in mug_velo], label=\"Muggeo et al\", c='r', marker='+')\n",
    "    ax2.set_ylabel(\"Standard deviation (nm/s)\")\n",
    "    ax2.set_xlabel(\"Angle (deg)\")\n",
    "    ax2.legend()\n",
    "    \n",
    "    ax3 = fig2.add_subplot(gs[1,0])\n",
    "    ax3.scatter(x=angles, y=brute_sections, label=\"Brute force\", c='k', marker='*')\n",
    "    ax3.scatter(x=angles, y=mug_sections, label=\"Muggeo et al\", c='r', marker='+')\n",
    "    ax3.set_ylabel(\"Number of sections\")\n",
    "    ax3.set_xlabel(\"Angle (deg)\")\n",
    "    ax3.legend()\n",
    "    \n",
    "    plt.tight_layout()\n",
    "    plt.show()\n",
    "    ##############################################################################################################################################\n",
    "    \n",
    "    ##############################################################################################################################################\n",
    "    fig3 = plt.figure(\"Effect of diameter\", figsize=(10,10))\n",
    "    gs = GridSpec(2,2, figure=fig3, width_ratios=(1,1), height_ratios=(1,1))\n",
    "    \n",
    "    ax1 = fig3.add_subplot(gs[0,0])\n",
    "    ax1.scatter(x=diameter, y=displacement_velo, label=\"Displacement\")\n",
    "    ax1.scatter(x=diameter, y=[np.average(i) for i in brute_velo], label=\"Brute force\", c='k', marker='*')\n",
    "    ax1.scatter(x=diameter, y=[np.average(i) for i in mug_velo], label=\"Muggeo et al\", c='r', marker='+')\n",
    "    ax1.set_ylabel(\"Average Velocity (nm/s)\")\n",
    "    ax1.set_xlabel(\"Diameter (nm)\")\n",
    "    ax1.legend()\n",
    "    \n",
    "    ax2 = fig3.add_subplot(gs[0,1])\n",
    "    ax2.scatter(x=diameter, y=[np.std(i) for i in brute_velo], label=\"Brute force\", c='k', marker='*')\n",
    "    ax2.scatter(x=diameter, y=[np.std(i) for i in mug_velo], label=\"Muggeo et al\", c='r', marker='+')\n",
    "    ax2.set_ylabel(\"Standard deviation (nm/s)\")\n",
    "    ax2.set_xlabel(\"Diameter (nm)\")\n",
    "    ax2.legend()\n",
    "    \n",
    "    ax3 = fig3.add_subplot(gs[1,0])\n",
    "    ax3.scatter(x=diameter, y=brute_sections, label=\"Brute force\", c='k', marker='*')\n",
    "    ax3.scatter(x=diameter, y=mug_sections, label=\"Muggeo et al\", c='r', marker='+')\n",
    "    ax3.set_ylabel(\"Number of sections\")\n",
    "    ax3.set_xlabel(\"Diameter (nm)\")\n",
    "    ax3.legend()\n",
    "    \n",
    "    plt.tight_layout()\n",
    "    plt.show()\n",
    "    ##############################################################################################################################################\n",
    "\n",
    "    ##############################################################################################################################################\n",
    "    fig4 = plt.figure(\"Effect of track length\", figsize=(10,10))\n",
    "    gs = GridSpec(2,2, figure=fig4, width_ratios=(1,1), height_ratios=(1,1))\n",
    "    \n",
    "    ax1 = fig4.add_subplot(gs[0,0])\n",
    "    ax1.scatter(x=[len(tr.unwrapped) for tr in filtered_tracks], y=displacement_velo, label=\"Displacement\")\n",
    "    ax1.scatter(x=[len(tr.unwrapped) for tr in filtered_tracks], y=[np.average(i) for i in brute_velo], label=\"Brute force\", c='k', marker='*')\n",
    "    ax1.scatter(x=[len(tr.unwrapped) for tr in filtered_tracks], y=[np.average(i) for i in mug_velo], label=\"Muggeo et al\", c='r', marker='+')\n",
    "    ax1.set_xlabel(\"Length of track (#)\")\n",
    "    ax1.set_ylabel(\"Velocity (nm/s)\")\n",
    "    ax1.legend()\n",
    "    \n",
    "    ax2 = fig4.add_subplot(gs[0,1])\n",
    "    ax2.scatter(x=[len(tr.unwrapped) for tr in filtered_tracks], y=[np.std(i) for i in brute_velo], label=\"Brute force\", c='k', marker='*')\n",
    "    ax2.scatter(x=[len(tr.unwrapped) for tr in filtered_tracks], y=[np.std(i) for i in mug_velo], label=\"Muggeo et al\", c='r', marker='+')\n",
    "    ax2.set_xlabel(\"Length of track (#)\")\n",
    "    ax2.set_ylabel(\"Standard deviation (nm/s)\")\n",
    "    ax2.legend()\n",
    "    \n",
    "    ax3 = fig4.add_subplot(gs[1,0])\n",
    "    ax3.scatter(x=[len(tr.unwrapped) for tr in filtered_tracks], y=brute_sections, label=\"Brute force\", c='k', marker='*')\n",
    "    ax3.scatter(x=[len(tr.unwrapped) for tr in filtered_tracks], y=mug_sections, label=\"Muggeo et al\", c='r', marker='+')\n",
    "    ax3.set_xlabel(\"Length of track (#)\")\n",
    "    ax3.set_ylabel(\"Number of sections\")\n",
    "    ax3.legend()\n",
    "    \n",
    "    plt.tight_layout()\n",
    "    plt.show()\n",
    "    ##############################################################################################################################################\n"
   ]
  },
  {
   "cell_type": "markdown",
   "id": "12e92a12-efb7-498d-9bf1-728c47b3ce09",
   "metadata": {
    "tags": []
   },
   "source": [
    "### Interactive filtering\n",
    "- Filter the tracks by assigning a maximum allowed angle;\n",
    "- This angle refers to the deviation of the Z-ring ellipse to a perfect circle\n",
    "- Higher angles correspond to slanted rings and higher errors"
   ]
  },
  {
   "cell_type": "code",
   "execution_count": 47,
   "id": "fdb43774-164d-437b-9fd3-226c63be4fd2",
   "metadata": {
    "tags": []
   },
   "outputs": [
    {
     "data": {
      "application/vnd.jupyter.widget-view+json": {
       "model_id": "b6015f356cd34704b9c417af92172af5",
       "version_major": 2,
       "version_minor": 0
      },
      "text/plain": [
       "interactive(children=(IntRangeSlider(value=(0, 60), description='Angle:', max=90), IntRangeSlider(value=(0, 80…"
      ]
     },
     "metadata": {},
     "output_type": "display_data"
    }
   ],
   "source": [
    "TrackObjects = np.array(load_widget.result)\n",
    "\n",
    "#diameter = np.array([tr.ellipse['major']*1000 for tr in TrackObjects])\n",
    "#angle = np.rad2deg(np.arccos([i.ellipse['minor']/i.ellipse['major'] for i in TrackObjects]))\n",
    "\n",
    "angle_slider = IntRangeSlider(value=[0, 60], min=0, max=90, step=1, description='Angle:')\n",
    "major_slider = IntRangeSlider(value=[0, 800], min=0, max=2000, step=10, description='Diameter:')\n",
    "\n",
    "angle_wid = interactive(Update_Graphs, angle_threshold=angle_slider, major_threshold=major_slider,\n",
    "            all_tracks=fixed(TrackObjects))\n",
    "\n",
    "angle_wid\n"
   ]
  },
  {
   "cell_type": "markdown",
   "id": "cb1e05bb-b3be-4a0b-b323-e73a9baf1c75",
   "metadata": {},
   "source": [
    "### Interactive comparison\n",
    "- After defining appropriate filtering in the above cells select tracks for comparison\n",
    "- By default, adding a ftsW conditions WILL look for the corresponding divIB"
   ]
  },
  {
   "cell_type": "code",
   "execution_count": 12,
   "id": "1fa74123-f04b-41be-8420-893c8ba180c8",
   "metadata": {
    "tags": []
   },
   "outputs": [
    {
     "data": {
      "application/vnd.jupyter.widget-view+json": {
       "model_id": "ed4958a1eaea4ac68dd17a4892f00d7e",
       "version_major": 2,
       "version_minor": 0
      },
      "text/plain": [
       "interactive(children=(SelectMultiple(description='Available Tracks', options=('2021-11-15_divIB_30C', '2021-11…"
      ]
     },
     "metadata": {},
     "output_type": "display_data"
    }
   ],
   "source": [
    "selections = SelectMultiple(\n",
    "    options=os.listdir(rootdir),\n",
    "    description='Available Tracks',\n",
    "    rows=len(os.listdir(rootdir)),\n",
    "    width=200,\n",
    "    disabled=False\n",
    ")\n",
    "\n",
    "\n",
    "\n",
    "angle = BoundedIntText(\n",
    "    value=90,\n",
    "    min=0,\n",
    "    max=91,\n",
    "    step=1,\n",
    "    description='Angle Threshold:',\n",
    "    disabled=False\n",
    ")\n",
    "\n",
    "comparison_wid = interactive(ViolinComparison, conditions=selections, root=fixed(rootdir), anglethresh=angle)\n",
    "comparison_wid"
   ]
  },
  {
   "cell_type": "code",
   "execution_count": null,
   "id": "5de13f02-4002-48d0-b61e-0a3752a864b8",
   "metadata": {},
   "outputs": [],
   "source": []
  }
 ],
 "metadata": {
  "kernelspec": {
   "display_name": "Python 3 (ipykernel)",
   "language": "python",
   "name": "python3"
  },
  "language_info": {
   "codemirror_mode": {
    "name": "ipython",
    "version": 3
   },
   "file_extension": ".py",
   "mimetype": "text/x-python",
   "name": "python",
   "nbconvert_exporter": "python",
   "pygments_lexer": "ipython3",
   "version": "3.9.12"
  }
 },
 "nbformat": 4,
 "nbformat_minor": 5
}
